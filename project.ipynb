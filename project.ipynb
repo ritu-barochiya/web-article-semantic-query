{
 "cells": [
  {
   "cell_type": "code",
   "execution_count": 2,
   "id": "5a9634fb-8d46-4b05-90c7-d0c43ca568a7",
   "metadata": {},
   "outputs": [
    {
     "data": {
      "text/plain": [
       "list"
      ]
     },
     "execution_count": 2,
     "metadata": {},
     "output_type": "execute_result"
    }
   ],
   "source": [
    "from langchain.document_loaders import UnstructuredURLLoader\n",
    "\n",
    "loader = UnstructuredURLLoader(\n",
    "    urls=[\n",
    "        \"https://www.theverge.com/24054854/tesla-next-generation-vehicle-ev-elon-musk\",\n",
    "        \"https://economictimes.indiatimes.com/stocksupdate/companyid-12934.cms\"\n",
    "    ]\n",
    ")\n",
    "\n",
    "data = loader.load()\n",
    "type(data)\n"
   ]
  },
  {
   "cell_type": "code",
   "execution_count": 3,
   "id": "986561fc-4582-449e-a67a-07e08ad943c7",
   "metadata": {},
   "outputs": [
    {
     "data": {
      "text/plain": [
       "99"
      ]
     },
     "execution_count": 3,
     "metadata": {},
     "output_type": "execute_result"
    }
   ],
   "source": [
    "from langchain.text_splitter import RecursiveCharacterTextSplitter\n",
    "\n",
    "splitter = RecursiveCharacterTextSplitter(\n",
    "    separators=['\\n\\n', '\\n', '.', ' '],\n",
    "    chunk_size=500,\n",
    "    chunk_overlap=0\n",
    ")\n",
    "\n",
    "chunks = []\n",
    "\n",
    "for document in data:\n",
    "    chunks.extend(splitter.split_text(document.page_content))\n",
    "\n",
    "len(chunks)"
   ]
  },
  {
   "cell_type": "code",
   "execution_count": 5,
   "id": "74bb1ebc-022b-4ed4-8542-a3e505363d75",
   "metadata": {},
   "outputs": [],
   "source": [
    "from langchain.embeddings import OpenAIEmbeddings\n",
    "embedding_model = OpenAIEmbeddings(openai_api_key=\"your api key\")"
   ]
  },
  {
   "cell_type": "code",
   "execution_count": 7,
   "id": "a6f659d7-0237-490f-91a9-d9d1cf6aca8f",
   "metadata": {},
   "outputs": [],
   "source": [
    "from langchain.vectorstores import Chroma\n",
    "\n",
    "collection = Chroma(embedding_function=embedding_model, collection_name=\"article-vectors\")\n",
    "\n",
    "for chunk in chunks:\n",
    "    collection.add_texts([chunk])"
   ]
  },
  {
   "cell_type": "code",
   "execution_count": 23,
   "id": "46a7349f-c7dc-413a-b832-53f0e0952491",
   "metadata": {},
   "outputs": [
    {
     "data": {
      "text/plain": [
       "list"
      ]
     },
     "execution_count": 23,
     "metadata": {},
     "output_type": "execute_result"
    }
   ],
   "source": [
    "query = \"where was rebel attack on tesla and how it affected tesla?\"\n",
    "\n",
    "# Perform the search\n",
    "search_type = \"similarity\"  # You can also use \"mmr\" or \"similarity_score_threshold\"\n",
    "results = collection.search(query, search_type=search_type, k=5)  # k=5 for top 5 results\n",
    "type(results)\n",
    "# print(\"Search Results:\")\n",
    "# for doc in results:\n",
    "#     print(\"************************************\")\n",
    "#     print(doc.page_content)  \n"
   ]
  },
  {
   "cell_type": "code",
   "execution_count": 30,
   "id": "f8f96dc4-214e-40e2-be50-4aeed549943d",
   "metadata": {},
   "outputs": [
    {
     "name": "stdout",
     "output_type": "stream",
     "text": [
      "The rebel attack on Tesla occurred in the Red Sea, causing shipping delays for the company. This, along with other production challenges, contributed to a decline in sales growth for Tesla. Additionally, the attack may have influenced CEO Elon Musk's decision to cancel plans for a more affordable electric vehicle and focus on developing an autonomous vehicle instead.\n"
     ]
    }
   ],
   "source": [
    "from openai import OpenAI\n",
    "\n",
    "client = OpenAI(\n",
    "    api_key='your api key',\n",
    ")\n",
    "\n",
    "responses = []\n",
    "\n",
    "for doc in results:\n",
    "    chunk_text = doc.page_content \n",
    "\n",
    "    response = client.chat.completions.create(\n",
    "        messages=[\n",
    "            {\n",
    "                \"role\": \"user\",\n",
    "                \"content\": f\"{chunk_text} \\n\\n Based on this chunk, can you provide a summary or answer the question '{query}'?\"\n",
    "            }\n",
    "        ],\n",
    "        model=\"gpt-3.5-turbo\"\n",
    "    )\n",
    "    \n",
    "    responses.append(response.choices[0].message.content)\n",
    "\n",
    "final_prompt = \"\\n\".join(responses)\n",
    "\n",
    "final_res = client.chat.completions.create(\n",
    "    messages=[\n",
    "        {\n",
    "            \"role\": \"user\",\n",
    "            \"content\": f\"{final_prompt} \\n\\n Based on the information above, can you provide a final answer or summary for the question '{query}'?\"\n",
    "        }\n",
    "    ],\n",
    "    model=\"gpt-3.5-turbo\"\n",
    ")\n",
    "    \n",
    "print(final_res.choices[0].message.content)"
   ]
  }
 ],
 "metadata": {
  "kernelspec": {
   "display_name": "Python 3 (ipykernel)",
   "language": "python",
   "name": "python3"
  },
  "language_info": {
   "codemirror_mode": {
    "name": "ipython",
    "version": 3
   },
   "file_extension": ".py",
   "mimetype": "text/x-python",
   "name": "python",
   "nbconvert_exporter": "python",
   "pygments_lexer": "ipython3",
   "version": "3.12.7"
  }
 },
 "nbformat": 4,
 "nbformat_minor": 5
}
